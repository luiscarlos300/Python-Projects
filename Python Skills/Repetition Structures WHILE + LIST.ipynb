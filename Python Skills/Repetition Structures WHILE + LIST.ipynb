{
 "cells": [
  {
   "cell_type": "markdown",
   "metadata": {},
   "source": [
    "# Exercises\n",
    "\n",
    "## 1. Input until user stops\n",
    "\n",
    "Let's create a sales system. Our program must record the products and quantities (2 inputs) and add them to a list.\n",
    "\n",
    "The program must continue running until the input is empty, that is, the user presses enter without typing any product or quantity.\n",
    "\n",
    "At the end of the program, he must print all products and quantities sold.\n",
    "\n",
    "Note: If you want, for the print to be more visual, you can use the join for each item to be printed on a line.\n",
    "Suggestion for your sold list:"
   ]
  },
  {
   "cell_type": "raw",
   "metadata": {},
   "source": [
    "sales = [\n",
    "    ['apple', 5],\n",
    "    ['banana', 15],\n",
    "    ['olive oil', 1],\n",
    "    ['wine', 3],\n",
    "]"
   ]
  },
  {
   "cell_type": "code",
   "execution_count": 42,
   "metadata": {},
   "outputs": [
    {
     "name": "stdout",
     "output_type": "stream",
     "text": [
      "Qual o produto? Banana\n",
      "How many? 10\n",
      "Qual o produto? Apple\n",
      "How many? 40\n",
      "Qual o produto? \n",
      "[['Banana', 10], ['Apple', 40]]\n"
     ]
    }
   ],
   "source": [
    "sales = []\n",
    "\n",
    "while True:\n",
    "    product = input('Qual o produto? ')\n",
    "    if not product:\n",
    "        break\n",
    "    try:\n",
    "        amount = input('How many? ')\n",
    "        sales.append([product, int(amount)])\n",
    "    except:\n",
    "        print('Error: Type the last quantity with numbers.')\n",
    "        break\n",
    "\n",
    "print(sales)"
   ]
  }
 ],
 "metadata": {
  "kernelspec": {
   "display_name": "Python 3 (ipykernel)",
   "language": "python",
   "name": "python3"
  },
  "language_info": {
   "codemirror_mode": {
    "name": "ipython",
    "version": 3
   },
   "file_extension": ".py",
   "mimetype": "text/x-python",
   "name": "python",
   "nbconvert_exporter": "python",
   "pygments_lexer": "ipython3",
   "version": "3.9.12"
  }
 },
 "nbformat": 4,
 "nbformat_minor": 4
}
