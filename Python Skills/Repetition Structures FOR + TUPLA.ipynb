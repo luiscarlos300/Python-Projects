{
 "cells": [
  {
   "cell_type": "markdown",
   "metadata": {},
   "source": [
    "# Exercises\n",
    "\n",
    "These are exercises very similar to the ones we did with lists. But in the tuple, we can not only work with indexes, but also do the \"unpacking\" of the tuples, which can make our code easier.\n",
    "\n",
    "## 1. Sales Analysis\n",
    "\n",
    "In this exercise we will do a \"simple analysis\" of Goal achievement.\n",
    "\n",
    "We have a list with the salespeople and the sales values ​​and we want to identify (print) which salespeople reached the goal and what was the value they sold."
   ]
  },
  {
   "cell_type": "code",
   "execution_count": 1,
   "metadata": {},
   "outputs": [
    {
     "name": "stdout",
     "output_type": "stream",
     "text": [
      "João hit the goal, sold 15000 units\n",
      "Julia hit the goal, sold 27000 units\n",
      "Ana hit the goal, sold 10300 units\n"
     ]
    }
   ],
   "source": [
    "goals = 10000\n",
    "sales = [\n",
    "    ('João', 15000),\n",
    "    ('Julia', 27000),\n",
    "    ('Marcus', 9900),\n",
    "    ('Maria', 3750),\n",
    "    ('Ana', 10300),\n",
    "    ('Alon', 7870),\n",
    "]\n",
    "\n",
    "for salesman, amount in sales:\n",
    "    if amount >= goals:\n",
    "        print('{} hit the goal, sold {} units'.format(salesman, amount))"
   ]
  },
  {
   "cell_type": "markdown",
   "metadata": {},
   "source": [
    "## 2. Comparison with Previous Year\n",
    "\n",
    "Let's say you're analyzing the sales of ecommerce products and you want to identify which products had more sales in 2020 than in 2019, to report this to the board.\n",
    "\n",
    "Your answer can be a print of each product, what was the sale of 2019, the sale of 2020 and the % growth from 2020 to 2019.\n",
    "\n",
    "\n",
    "The tuple logic is: (product, sales2019, sales2020)"
   ]
  },
  {
   "cell_type": "code",
   "execution_count": 3,
   "metadata": {},
   "outputs": [
    {
     "name": "stdout",
     "output_type": "stream",
     "text": [
      "iphone had 558147 sales in 2019, 951642 sales in 2020. Growth of 70.5%\n",
      "tv had 405252 sales in 2019, 787604 sales in 2020. Growth of 94.3%\n",
      "máquina de café had 718654 sales in 2019, 867660 sales in 2020. Growth of 20.7%\n",
      "notebook dell had 422760 sales in 2019, 694913 sales in 2020. Growth of 64.4%\n",
      "notebook hp had 154753 sales in 2019, 539704 sales in 2020. Growth of 248.8%\n",
      "microsoft surface had 438508 sales in 2019, 667179 sales in 2020. Growth of 52.1%\n",
      "webcam had 237467 sales in 2019, 295633 sales in 2020. Growth of 24.5%\n",
      "caixa de som had 489705 sales in 2019, 725316 sales in 2020. Growth of 48.1%\n",
      "microfone had 328311 sales in 2019, 644622 sales in 2020. Growth of 96.3%\n",
      "câmera canon had 591120 sales in 2019, 994303 sales in 2020. Growth of 68.2%\n"
     ]
    }
   ],
   "source": [
    "sales_products = [('iphone', 558147, 951642), ('galaxy', 712350, 244295), ('ipad', 573823, 26964), ('tv', 405252, 787604), ('máquina de café', 718654, 867660), ('kindle', 531580, 78830), ('geladeira', 973139, 710331), ('adega', 892292, 646016), ('notebook dell', 422760, 694913), ('notebook hp', 154753, 539704), ('notebook asus', 887061, 324831), ('microsoft surface', 438508, 667179), ('webcam', 237467, 295633), ('caixa de som', 489705, 725316), ('microfone', 328311, 644622), ('câmera canon', 591120, 994303)]\n",
    "\n",
    "for product, sales2019, sales2020 in sales_products:\n",
    "    if sales2020 > sales2019:\n",
    "        growth = sales2020 / sales2019 - 1\n",
    "        print('{} had {} sales in 2019, {} sales in 2020. Growth of {:.1%}'.format(product, sales2019, sales2020, growth))"
   ]
  }
 ],
 "metadata": {
  "kernelspec": {
   "display_name": "Python 3 (ipykernel)",
   "language": "python",
   "name": "python3"
  },
  "language_info": {
   "codemirror_mode": {
    "name": "ipython",
    "version": 3
   },
   "file_extension": ".py",
   "mimetype": "text/x-python",
   "name": "python",
   "nbconvert_exporter": "python",
   "pygments_lexer": "ipython3",
   "version": "3.9.12"
  }
 },
 "nbformat": 4,
 "nbformat_minor": 4
}
