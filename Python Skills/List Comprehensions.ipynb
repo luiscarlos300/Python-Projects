{
 "cells": [
  {
   "cell_type": "code",
   "execution_count": null,
   "id": "48e5e5f7",
   "metadata": {},
   "outputs": [],
   "source": [
    "preco_produtos = [100, 150, 300, 5500]\n",
    "produtos = ['vinho', 'cafeiteira', 'microondas', 'iphone']"
   ]
  },
  {
   "cell_type": "code",
   "execution_count": null,
   "id": "661cd5b6",
   "metadata": {},
   "outputs": [],
   "source": [
    "def calcular_imposto(preco, imposto):\n",
    "    return preco * imposto\n",
    "\n",
    "impostos = [calcular_imposto(preco, 0.3) for preco in preco_produtos]\n",
    "print(impostos)"
   ]
  },
  {
   "cell_type": "code",
   "execution_count": null,
   "id": "1520694c",
   "metadata": {},
   "outputs": [],
   "source": [
    "impostos = [preco * 0.3 for preco in preco_produtos]\n",
    "print(impostos)"
   ]
  }
 ],
 "metadata": {
  "kernelspec": {
   "display_name": "Python 3 (ipykernel)",
   "language": "python",
   "name": "python3"
  },
  "language_info": {
   "codemirror_mode": {
    "name": "ipython",
    "version": 3
   },
   "file_extension": ".py",
   "mimetype": "text/x-python",
   "name": "python",
   "nbconvert_exporter": "python",
   "pygments_lexer": "ipython3",
   "version": "3.11.5"
  }
 },
 "nbformat": 4,
 "nbformat_minor": 5
}
