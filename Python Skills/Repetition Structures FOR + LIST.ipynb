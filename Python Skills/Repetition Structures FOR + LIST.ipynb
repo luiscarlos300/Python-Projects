{
 "cells": [
  {
   "cell_type": "markdown",
   "metadata": {},
   "source": [
    "# Exercises\n",
    "\n",
    "## 1. Creating a Guest Registry\n",
    "\n",
    "Let's say you are creating the system to record the arrival of guests at a hotel. At the hotel, guests can have rooms with 1, 2, 3 and 4 people. Your system should be able to:\n",
    "\n",
    "1. Identify how many people the newly arrived guest will have in the room (asking through input)\n",
    "2. According to the number of people of the guest, he must do a for to ask for each person's cpf and name, in order to register them in the room (2 entries for each person, 1 for the cpf and another for the name)\n",
    "3. Your program should then generate a list of all the people who will stay in the room where each item on this list is the person's name and the person's cpf, like this:"
   ]
  },
  {
   "cell_type": "raw",
   "metadata": {},
   "source": [
    "quarto = [\n",
    "    ['João', 'cpf:00000000000'],\n",
    "    ['Julia', 'cpf:11111111111'],\n",
    "    ['Marcus', 'cpf:22222222222'],\n",
    "    ['Maria', 'cpf:33333333333'],\n",
    "]"
   ]
  },
  {
   "cell_type": "code",
   "execution_count": 2,
   "metadata": {},
   "outputs": [
    {
     "name": "stdout",
     "output_type": "stream",
     "text": [
      "How many people will there be in the room?2\n",
      "What is your name?Luis\n",
      "What is your cpf?00000000000\n",
      "What is your name?Carlos\n",
      "What is your cpf?00000000000\n",
      "[['Luis', 'cpf:00000000000'], ['Carlos', 'cpf:00000000000']]\n"
     ]
    }
   ],
   "source": [
    "amount_people = int(input('How many people will there be in the room?'))\n",
    "room = []\n",
    "\n",
    "for i in range(amount_people):\n",
    "    name = input('What is your name?')\n",
    "    cpf = input('What is your cpf?')\n",
    "    guest = [name, 'cpf:{}'.format(cpf)]\n",
    "    room.append(guest)\n",
    "    \n",
    "print(room)"
   ]
  },
  {
   "cell_type": "markdown",
   "metadata": {},
   "source": [
    "## 2. Sales Analysis\n",
    "\n",
    "In this exercise we will do a \"simple analysis\" of Goal achievement.\n",
    "\n",
    "We have a list with the salespeople and the sales values ​​and we want to identify (print) which salespeople reached the goal and what was the value they sold."
   ]
  },
  {
   "cell_type": "code",
   "execution_count": 4,
   "metadata": {},
   "outputs": [
    {
     "name": "stdout",
     "output_type": "stream",
     "text": [
      "Seller João hit the goal. Made 15000 sales\n",
      "Seller Julia hit the goal. Made 27000 sales\n",
      "Seller Ana hit the goal. Made 10300 sales\n"
     ]
    }
   ],
   "source": [
    "goal = 10000\n",
    "sales = [\n",
    "    ['João', 15000],\n",
    "    ['Julia', 27000],\n",
    "    ['Marcus', 9900],\n",
    "    ['Maria', 3750],\n",
    "    ['Ana', 10300],\n",
    "    ['Alon', 7870],\n",
    "]\n",
    "\n",
    "for item in sales:\n",
    "    if item[1] >= goal:\n",
    "        print('Seller {} hit the goal. Made {} sales'.format(item[0], item[1]))"
   ]
  },
  {
   "cell_type": "markdown",
   "metadata": {},
   "source": [
    "## 3. Comparison with Previous Year\n",
    "\n",
    "Let's say you're analyzing the sales of ecommerce products and you want to identify which products had more sales in 2020 than in 2019, to report this to the board.\n",
    "\n",
    "Your answer can be a print of each product, what was the sale of 2019, the sale of 2020 and the % growth from 2020 to 2019."
   ]
  },
  {
   "cell_type": "code",
   "execution_count": 5,
   "metadata": {},
   "outputs": [
    {
     "name": "stdout",
     "output_type": "stream",
     "text": [
      "iphone  sold R$558,147 in 2019, R$951,642 in 2020 and had a 70.5% growth\n",
      "tv  sold R$405,252 in 2019, R$787,604 in 2020 and had a 94.3% growth\n",
      "máquina de café  sold R$718,654 in 2019, R$867,660 in 2020 and had a 20.7% growth\n",
      "notebook dell  sold R$422,760 in 2019, R$694,913 in 2020 and had a 64.4% growth\n",
      "notebook hp  sold R$154,753 in 2019, R$539,704 in 2020 and had a 248.8% growth\n",
      "microsoft surface  sold R$438,508 in 2019, R$667,179 in 2020 and had a 52.1% growth\n",
      "webcam  sold R$237,467 in 2019, R$295,633 in 2020 and had a 24.5% growth\n",
      "caixa de som  sold R$489,705 in 2019, R$725,316 in 2020 and had a 48.1% growth\n",
      "microfone  sold R$328,311 in 2019, R$644,622 in 2020 and had a 96.3% growth\n",
      "câmera canon  sold R$591,120 in 2019, R$994,303 in 2020 and had a 68.2% growth\n"
     ]
    }
   ],
   "source": [
    "products = ['iphone', 'galaxy', 'ipad', 'tv', 'máquina de café', 'kindle', 'geladeira', 'adega', 'notebook dell', 'notebook hp', 'notebook asus', 'microsoft surface', 'webcam', 'caixa de som', 'microfone', 'câmera canon']\n",
    "sales2019 = [558147,712350,573823,405252,718654,531580,973139,892292,422760,154753,887061,438508,237467,489705,328311,591120]\n",
    "sales2020 = [951642,244295,26964,787604,867660,78830,710331,646016,694913,539704,324831,667179,295633,725316,644622,994303]\n",
    "\n",
    "\n",
    "for i, product in enumerate(products):\n",
    "    if sales2020[i] > sales2019[i]:\n",
    "        growth = sales2020[i] / sales2019[i] - 1\n",
    "        print('{}  sold R${:,} in 2019, R${:,} in 2020 and had a {:.1%} growth'.format(product, sales2019[i], sales2020[i], growth))"
   ]
  }
 ],
 "metadata": {
  "kernelspec": {
   "display_name": "Python 3 (ipykernel)",
   "language": "python",
   "name": "python3"
  },
  "language_info": {
   "codemirror_mode": {
    "name": "ipython",
    "version": 3
   },
   "file_extension": ".py",
   "mimetype": "text/x-python",
   "name": "python",
   "nbconvert_exporter": "python",
   "pygments_lexer": "ipython3",
   "version": "3.9.12"
  }
 },
 "nbformat": 4,
 "nbformat_minor": 4
}
